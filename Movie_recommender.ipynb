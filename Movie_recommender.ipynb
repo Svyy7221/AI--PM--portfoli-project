{
  "nbformat": 4,
  "nbformat_minor": 0,
  "metadata": {
    "colab": {
      "provenance": [],
      "authorship_tag": "ABX9TyMKspftB38ellWkXr+CY9bj",
      "include_colab_link": true
    },
    "kernelspec": {
      "name": "python3",
      "display_name": "Python 3"
    },
    "language_info": {
      "name": "python"
    }
  },
  "cells": [
    {
      "cell_type": "markdown",
      "metadata": {
        "id": "view-in-github",
        "colab_type": "text"
      },
      "source": [
        "<a href=\"https://colab.research.google.com/github/Svyy7221/AI--PM--portfoli-project/blob/main/Movie_recommender.ipynb\" target=\"_parent\"><img src=\"https://colab.research.google.com/assets/colab-badge.svg\" alt=\"Open In Colab\"/></a>"
      ]
    },
    {
      "cell_type": "code",
      "execution_count": 1,
      "metadata": {
        "colab": {
          "base_uri": "https://localhost:8080/"
        },
        "id": "7ksmlBMHtLa8",
        "outputId": "5986b006-05da-4a40-dbd9-ba2c5d8a058e"
      },
      "outputs": [
        {
          "output_type": "stream",
          "name": "stdout",
          "text": [
            "Requirement already satisfied: scikit-learn in /usr/local/lib/python3.12/dist-packages (1.6.1)\n",
            "Requirement already satisfied: pandas in /usr/local/lib/python3.12/dist-packages (2.2.2)\n",
            "Requirement already satisfied: numpy in /usr/local/lib/python3.12/dist-packages (2.0.2)\n",
            "Requirement already satisfied: scipy>=1.6.0 in /usr/local/lib/python3.12/dist-packages (from scikit-learn) (1.16.1)\n",
            "Requirement already satisfied: joblib>=1.2.0 in /usr/local/lib/python3.12/dist-packages (from scikit-learn) (1.5.2)\n",
            "Requirement already satisfied: threadpoolctl>=3.1.0 in /usr/local/lib/python3.12/dist-packages (from scikit-learn) (3.6.0)\n",
            "Requirement already satisfied: python-dateutil>=2.8.2 in /usr/local/lib/python3.12/dist-packages (from pandas) (2.9.0.post0)\n",
            "Requirement already satisfied: pytz>=2020.1 in /usr/local/lib/python3.12/dist-packages (from pandas) (2025.2)\n",
            "Requirement already satisfied: tzdata>=2022.7 in /usr/local/lib/python3.12/dist-packages (from pandas) (2025.2)\n",
            "Requirement already satisfied: six>=1.5 in /usr/local/lib/python3.12/dist-packages (from python-dateutil>=2.8.2->pandas) (1.17.0)\n",
            "Movies similar to Inception:\n",
            "['The Matrix', 'Interstellar', 'John Wick']\n"
          ]
        }
      ],
      "source": [
        "# Step 1: Install dependencies (if needed)\n",
        "!pip install scikit-learn pandas numpy\n",
        "\n",
        "# Step 2: Import libraries\n",
        "import pandas as pd\n",
        "from sklearn.metrics.pairwise import cosine_similarity\n",
        "from sklearn.feature_extraction.text import CountVectorizer\n",
        "\n",
        "# Step 3: Load sample dataset\n",
        "# (you can later replace with MovieLens dataset)\n",
        "movies = {\n",
        "    'title': ['The Matrix', 'John Wick', 'The Dark Knight', 'Interstellar', 'Inception'],\n",
        "    'genres': ['Action Sci-Fi', 'Action Thriller', 'Action Drama', 'Sci-Fi Drama', 'Sci-Fi Thriller']\n",
        "}\n",
        "\n",
        "df = pd.DataFrame(movies)\n",
        "\n",
        "# Step 4: Convert genres into vectors\n",
        "cv = CountVectorizer()\n",
        "count_matrix = cv.fit_transform(df['genres'])\n",
        "\n",
        "# Step 5: Compute similarity\n",
        "cosine_sim = cosine_similarity(count_matrix)\n",
        "\n",
        "# Step 6: Recommend function\n",
        "def recommend(movie_title):\n",
        "    idx = df[df['title'] == movie_title].index[0]\n",
        "    scores = list(enumerate(cosine_sim[idx]))\n",
        "    scores = sorted(scores, key=lambda x: x[1], reverse=True)\n",
        "    recommended = [df.iloc[i[0]]['title'] for i in scores[1:4]]\n",
        "    return recommended\n",
        "\n",
        "# Test recommender\n",
        "print(\"Movies similar to Inception:\")\n",
        "print(recommend(\"Inception\"))"
      ]
    }
  ]
}